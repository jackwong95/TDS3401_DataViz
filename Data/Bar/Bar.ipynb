{
 "cells": [
  {
   "cell_type": "markdown",
   "metadata": {},
   "source": [
    "# Data Processing"
   ]
  },
  {
   "cell_type": "markdown",
   "metadata": {},
   "source": [
    "## Imports"
   ]
  },
  {
   "cell_type": "code",
   "execution_count": 1,
   "metadata": {
    "collapsed": true
   },
   "outputs": [],
   "source": [
    "import json\n",
    "import pandas as pd"
   ]
  },
  {
   "cell_type": "markdown",
   "metadata": {},
   "source": [
    "## Raw Data"
   ]
  },
  {
   "cell_type": "code",
   "execution_count": 2,
   "metadata": {
    "collapsed": true
   },
   "outputs": [],
   "source": [
    "def load(tsv_file):\n",
    "    return pd.read_csv(tsv_file, header=0, sep=\"\\t\", index_col=False)\n",
    "\n",
    "amazon = load(\"../Raw/amazon.tsv\")\n",
    "imdb   = load(\"../Raw/imdb.tsv\")\n",
    "yelp   = load(\"../Raw/yelp.tsv\")"
   ]
  },
  {
   "cell_type": "markdown",
   "metadata": {},
   "source": [
    "## Bar Chart Data"
   ]
  },
  {
   "cell_type": "code",
   "execution_count": 3,
   "metadata": {
    "collapsed": false
   },
   "outputs": [],
   "source": [
    "def write(json_file):\n",
    "\n",
    "    # It's expected to get 500, 500 for the three data (mentioned in original data source)\n",
    "\n",
    "    sent = {'amazon': {'negative':0, 'positive':0},\n",
    "            'imbd':   {'negative':0, 'positive':0},\n",
    "            'yelp':   {'negative':0, 'positive':0}}\n",
    "\n",
    "    for idx, row in amazon.iterrows():\n",
    "        if row['sentiment'] == 1:\n",
    "            sent['amazon']['positive'] = sent['amazon']['positive'] + 1\n",
    "        else:\n",
    "            sent['amazon']['negative'] = sent['amazon']['negative'] + 1\n",
    "\n",
    "    for idx, row in imdb.iterrows():\n",
    "        if row['sentiment'] == 1:\n",
    "            sent['imbd']['positive'] = sent['imbd']['positive'] + 1\n",
    "        else:\n",
    "            sent['imbd']['negative'] = sent['imbd']['negative'] + 1\n",
    "\n",
    "    for idx, row in yelp.iterrows():\n",
    "        if row['sentiment'] == 1:\n",
    "            sent['yelp']['positive'] = sent['yelp']['positive'] + 1\n",
    "        else:\n",
    "            sent['yelp']['negative'] = sent['yelp']['negative'] + 1\n",
    "\n",
    "    with open(json_file, 'w') as file:\n",
    "        json.dump(sent, file)\n",
    "\n",
    "write(\"bar.json\")"
   ]
  },
  {
   "cell_type": "code",
   "execution_count": null,
   "metadata": {
    "collapsed": true
   },
   "outputs": [],
   "source": []
  }
 ],
 "metadata": {
  "anaconda-cloud": {},
  "kernelspec": {
   "display_name": "Python [default]",
   "language": "python",
   "name": "python3"
  },
  "language_info": {
   "codemirror_mode": {
    "name": "ipython",
    "version": 3
   },
   "file_extension": ".py",
   "mimetype": "text/x-python",
   "name": "python",
   "nbconvert_exporter": "python",
   "pygments_lexer": "ipython3",
   "version": "3.5.4"
  }
 },
 "nbformat": 4,
 "nbformat_minor": 1
}
