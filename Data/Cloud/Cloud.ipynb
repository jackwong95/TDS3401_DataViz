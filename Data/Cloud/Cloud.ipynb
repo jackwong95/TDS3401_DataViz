{
 "cells": [
  {
   "cell_type": "markdown",
   "metadata": {},
   "source": [
    "# Data Processing"
   ]
  },
  {
   "cell_type": "markdown",
   "metadata": {},
   "source": [
    "## Imports"
   ]
  },
  {
   "cell_type": "code",
   "execution_count": 1,
   "metadata": {
    "collapsed": true
   },
   "outputs": [],
   "source": [
    "import pandas as pd\n",
    "import string\n",
    "import nltk\n",
    "import operator\n",
    "from nltk.corpus import stopwords"
   ]
  },
  {
   "cell_type": "markdown",
   "metadata": {},
   "source": [
    "## Raw Data"
   ]
  },
  {
   "cell_type": "code",
   "execution_count": 2,
   "metadata": {
    "collapsed": false
   },
   "outputs": [],
   "source": [
    "def load(tsv_file):\n",
    "    return pd.read_csv(tsv_file, header=0, sep=\"\\t\", index_col=False)\n",
    "\n",
    "amazon = load(\"../Raw/amazon.tsv\")\n",
    "imdb   = load(\"../Raw/imdb.tsv\")\n",
    "yelp   = load(\"../Raw/yelp.tsv\")"
   ]
  },
  {
   "cell_type": "markdown",
   "metadata": {},
   "source": [
    "## Word Cloud Data"
   ]
  },
  {
   "cell_type": "code",
   "execution_count": 3,
   "metadata": {
    "collapsed": false
   },
   "outputs": [],
   "source": [
    "dict = {\"amazon\":{}, \"imbd\":{}, \"yelp\":{}}\n",
    "punctuation_removal = str.maketrans(' ', ' ', string.punctuation)\n",
    "\n",
    "def write(data, name, csv_file):\n",
    "    \n",
    "    temp = {}\n",
    "    \n",
    "    for idx, row in data.iterrows():\n",
    "        for word in nltk.word_tokenize(row[\"review\"].lower().translate(punctuation_removal)):\n",
    "            \n",
    "            if word in stopwords.words() or word.isdigit():\n",
    "                continue\n",
    "            \n",
    "            if word not in temp:\n",
    "                temp[word] = 0\n",
    "            \n",
    "            temp[word] += 1\n",
    "    \n",
    "    with open(csv_file, 'w') as file:\n",
    "        file.write(\"source,word,freq\\n\")\n",
    "        \n",
    "        i = 0\n",
    "        for t in sorted(temp.items(), key=operator.itemgetter(1), reverse=True):\n",
    "            file.write(str(name + \",\" + t[0] + \",\" + str(t[1]) + \"\\n\"))\n",
    "            \n",
    "            i += 1\n",
    "            if i == 400:\n",
    "                break\n",
    "\n",
    "write(amazon, \"amazon\", \"amazon_cloud.csv\")\n",
    "write(imdb,   \"imdb\",   \"imdb_cloud.csv\")\n",
    "write(yelp,   \"yelp\",   \"yelp_cloud.csv\")"
   ]
  },
  {
   "cell_type": "code",
   "execution_count": null,
   "metadata": {
    "collapsed": true
   },
   "outputs": [],
   "source": []
  }
 ],
 "metadata": {
  "anaconda-cloud": {},
  "kernelspec": {
   "display_name": "Python [default]",
   "language": "python",
   "name": "python3"
  },
  "language_info": {
   "codemirror_mode": {
    "name": "ipython",
    "version": 3
   },
   "file_extension": ".py",
   "mimetype": "text/x-python",
   "name": "python",
   "nbconvert_exporter": "python",
   "pygments_lexer": "ipython3",
   "version": "3.5.4"
  }
 },
 "nbformat": 4,
 "nbformat_minor": 1
}
