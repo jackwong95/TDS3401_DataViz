{
 "cells": [
  {
   "cell_type": "markdown",
   "metadata": {},
   "source": [
    "# Data Processing"
   ]
  },
  {
   "cell_type": "markdown",
   "metadata": {},
   "source": [
    "## Imports"
   ]
  },
  {
   "cell_type": "code",
   "execution_count": 1,
   "metadata": {
    "collapsed": true
   },
   "outputs": [],
   "source": [
    "import json\n",
    "import pandas as pd\n",
    "\n",
    "import nltk\n",
    "from pycorenlp import StanfordCoreNLP"
   ]
  },
  {
   "cell_type": "markdown",
   "metadata": {},
   "source": [
    "## Raw Data"
   ]
  },
  {
   "cell_type": "code",
   "execution_count": 2,
   "metadata": {
    "collapsed": false
   },
   "outputs": [],
   "source": [
    "def load(tsv_file):\n",
    "    return pd.DataFrame.from_csv(tsv_file, sep=\"\\t\", header=None, index_col=False)\n",
    "\n",
    "amazon = load(\"Data/amazon_cells_labelled.tsv\")\n",
    "imdb   = load(\"Data/imdb_labelled.tsv\")\n",
    "yelp   = load(\"Data/yelp_labelled.tsv\")"
   ]
  },
  {
   "cell_type": "markdown",
   "metadata": {},
   "source": [
    "## Subject and Opinion"
   ]
  },
  {
   "cell_type": "code",
   "execution_count": 3,
   "metadata": {
    "collapsed": false
   },
   "outputs": [],
   "source": [
    "# Extract (subject, opinion, sentiment) triplet.\n",
    "\n",
    "# Start server first, remember to shut down when done.\n",
    "# java -mx5g -cp \"*\" edu.stanford.nlp.pipeline.StanfordCoreNLPServer -timeout 10000\n",
    "nlp = StanfordCoreNLP('http://localhost:9000')\n",
    "\n",
    "def get_subject_opinion_sentiment(sentence, sentiment):\n",
    "    \n",
    "    # [[Subject, Opinion, Sentiment], ...]\n",
    "    triplet = []\n",
    "    \n",
    "    # Stanford Sentence Parser.\n",
    "    res = nlp.annotate(sentence.translate(str.maketrans(',.', '  ')).lower(),\n",
    "                       properties={\n",
    "            'annotators': 'depparse',\n",
    "            'outputFormat': 'json',\n",
    "            'timeout': 100000,\n",
    "        })\n",
    "    \n",
    "    if len(res[\"sentences\"]) == 0:\n",
    "        return triplet\n",
    "    \n",
    "    current = []\n",
    "    negation = []\n",
    "    \n",
    "    for x in res[\"sentences\"][0][\"basicDependencies\"]:\n",
    "        \n",
    "        # If negation found.\n",
    "        if 'neg' in x[\"dep\"]:\n",
    "            negation.append([x[\"governorGloss\"], x[\"dependentGloss\"]])\n",
    "            continue\n",
    "        \n",
    "        # If dependency found.\n",
    "        if 'mod' in x[\"dep\"] or 'dep' in x[\"dep\"]:\n",
    "            \n",
    "            # If governor is a noun and depedent is an adjective.                \n",
    "            if 'NN' in nltk.pos_tag([x[\"governorGloss\"]])[0][1] and 'JJ' in nltk.pos_tag([x[\"dependentGloss\"]])[0][1]:\n",
    "                current.append([x[\"governorGloss\"], x[\"dependentGloss\"], sentiment])\n",
    "            continue\n",
    "        \n",
    "        # If relation found.\n",
    "        if 'nsubj' in x[\"dep\"]:\n",
    "            \n",
    "            # If governor is an adjective and dependent is a noun.\n",
    "            if 'JJ' in nltk.pos_tag([x[\"governorGloss\"]])[0][1] and 'NN' in nltk.pos_tag([x[\"dependentGloss\"]])[0][1]:\n",
    "                current.append([x[\"dependentGloss\"], x[\"governorGloss\"], sentiment])\n",
    "            continue\n",
    "    \n",
    "    # Add negations.\n",
    "    for n in negation:\n",
    "        for i in range(len(current)):\n",
    "            if n[0] == current[i][1]:\n",
    "                current[i][1] = n[1] + \" \" + current[i][1]\n",
    "    \n",
    "    # Append to list.\n",
    "    triplet.extend(current)\n",
    "    \n",
    "    return triplet"
   ]
  },
  {
   "cell_type": "markdown",
   "metadata": {},
   "source": [
    "## Bubble Chart Data"
   ]
  },
  {
   "cell_type": "code",
   "execution_count": 4,
   "metadata": {
    "collapsed": false
   },
   "outputs": [],
   "source": [
    "def write(data, json_file, N = 40):\n",
    "    sentences  = [ str(s) for s in data[0].values.tolist() ]\n",
    "    sentiments = [ int(i) for i in data[1].values.tolist() ]\n",
    "    \n",
    "    pair_dict = {}\n",
    "    for i in range(len(sentences)):\n",
    "        triplets = get_subject_opinion_sentiment(sentences[i], sentiments[i])\n",
    "        \n",
    "        for t in triplets:\n",
    "            if t[0] not in pair_dict:\n",
    "                pair_dict[t[0]] = [0, 0]\n",
    "            pair_dict[t[0]][sentiments[i]] += 1\n",
    "    \n",
    "    pair_json = []\n",
    "    for k in pair_dict.keys():\n",
    "        pair_json.append({\n",
    "                \"subject\"    : k,\n",
    "                \"count\"      : pair_dict[k][0] + pair_dict[k][1],\n",
    "                \"sentiments\" : [\n",
    "                    {\"sentiment\" : \"negative\", \"count\" : pair_dict[k][0]},\n",
    "                    {\"sentiment\" : \"positive\", \"count\" : pair_dict[k][1]}\n",
    "                ]\n",
    "            })\n",
    "    \n",
    "    pair_json = sorted(pair_json, key=lambda k: k[\"count\"], reverse=True)\n",
    "    \n",
    "    if N > 0:\n",
    "        pair_json = pair_json[0:min(len(pair_json), N)]\n",
    "    \n",
    "    with open(json_file, 'w') as file:\n",
    "        json.dump(pair_json, file)\n",
    "\n",
    "write(amazon, \"Data/amazon_bubble.json\", 40)\n",
    "write(imdb,   \"Data/imdb_bubble.json\",   40)\n",
    "write(yelp,   \"Data/yelp_bubble.json\",   40)"
   ]
  },
  {
   "cell_type": "code",
   "execution_count": null,
   "metadata": {
    "collapsed": true
   },
   "outputs": [],
   "source": []
  }
 ],
 "metadata": {
  "anaconda-cloud": {},
  "kernelspec": {
   "display_name": "Python [default]",
   "language": "python",
   "name": "python3"
  },
  "language_info": {
   "codemirror_mode": {
    "name": "ipython",
    "version": 3
   },
   "file_extension": ".py",
   "mimetype": "text/x-python",
   "name": "python",
   "nbconvert_exporter": "python",
   "pygments_lexer": "ipython3",
   "version": "3.5.4"
  }
 },
 "nbformat": 4,
 "nbformat_minor": 1
}
